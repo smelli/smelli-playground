{
 "cells": [
  {
   "cell_type": "markdown",
   "metadata": {},
   "source": [
    "# smelli playground\n",
    "\n",
    "This Jupyter notebook allows you to try out the `smelli` Python package. Note that the execution speed is limited. To make full use of the package, install it locally with \n",
    "\n",
    "```bash\n",
    "pip3 install --user smelli\n",
    "```\n",
    "\n",
    "Execute the cells of this notebook with shift + enter."
   ]
  },
  {
   "cell_type": "code",
   "execution_count": null,
   "metadata": {},
   "outputs": [],
   "source": [
    "from playground import *"
   ]
  },
  {
   "cell_type": "markdown",
   "metadata": {},
   "source": [
    "## Step 1: EFT and basis\n",
    "\n",
    "Execute this cell and select an EFT and basis"
   ]
  },
  {
   "cell_type": "code",
   "execution_count": null,
   "metadata": {},
   "outputs": [],
   "source": [
    "widgets.HBox([widget_eft, widget_basis])"
   ]
  },
  {
   "cell_type": "markdown",
   "metadata": {},
   "source": [
    "## Step 2: likelihood\n",
    "\n",
    "execute this cell to initialize the likelihood. This will only take a moment."
   ]
  },
  {
   "cell_type": "code",
   "execution_count": null,
   "metadata": {},
   "outputs": [],
   "source": [
    "gl = smelli.GlobalLikelihood(eft=select_eft.value, basis=select_basis.value)"
   ]
  },
  {
   "cell_type": "markdown",
   "metadata": {},
   "source": [
    "## Step 3: Wilson coefficients\n",
    "\n",
    "select a point in EFT parameter space by entering in the text field Wilson coefficient values in the form `name: value`, one coefficient per line (this format is called YAML). The allowed names in the chosen basis can be found in the PDF file linked below.\n",
    "\n",
    "Example in the SMEFT Warsaw basis:\n",
    "\n",
    "```yaml\n",
    "lq1_2223: 1e-9\n",
    "lq1_3323: 1e-8\n",
    "lq3_3323: 1e-8\n",
    "```"
   ]
  },
  {
   "cell_type": "code",
   "execution_count": null,
   "metadata": {},
   "outputs": [],
   "source": [
    "widgets.VBox([out_basispdf, widgets.HBox([ta_wc, t_scale])])"
   ]
  },
  {
   "cell_type": "markdown",
   "metadata": {},
   "source": [
    "## Step 4: parameter point\n",
    "\n",
    "execute this cell to intialize the `GlobalLikelihoodPoint` object"
   ]
  },
  {
   "cell_type": "code",
   "execution_count": null,
   "metadata": {},
   "outputs": [],
   "source": [
    "glp = gl.parameter_point(read_yaml(ta_wc.value), float(t_scale.value))"
   ]
  },
  {
   "cell_type": "markdown",
   "metadata": {},
   "source": [
    "## Step 5: results!\n",
    "\n",
    "inspect the likelihood by looking at the numerical value ..."
   ]
  },
  {
   "cell_type": "code",
   "execution_count": null,
   "metadata": {},
   "outputs": [],
   "source": [
    "glp.log_likelihood_global()"
   ]
  },
  {
   "cell_type": "markdown",
   "metadata": {},
   "source": [
    "... or inspecting the table of observables"
   ]
  },
  {
   "cell_type": "code",
   "execution_count": null,
   "metadata": {},
   "outputs": [],
   "source": [
    "df = glp.obstable()\n",
    "df[:10]  # showing only the ten most discrepant observables"
   ]
  },
  {
   "cell_type": "markdown",
   "metadata": {},
   "source": [
    "Note that the observable table is a pandas DataFrame object, so you can use all its [features](https://pandas.pydata.org/pandas-docs/stable/generated/pandas.DataFrame.html) like sorting and filtering"
   ]
  },
  {
   "cell_type": "code",
   "execution_count": null,
   "metadata": {},
   "outputs": [],
   "source": [
    "df.loc[['a_e', 'a_mu', 'a_tau']].sort_values('exp. unc.')"
   ]
  },
  {
   "cell_type": "code",
   "execution_count": null,
   "metadata": {},
   "outputs": [],
   "source": []
  }
 ],
 "metadata": {
  "kernelspec": {
   "display_name": "Python 3",
   "language": "python",
   "name": "python3"
  },
  "language_info": {
   "codemirror_mode": {
    "name": "ipython",
    "version": 3
   },
   "file_extension": ".py",
   "mimetype": "text/x-python",
   "name": "python",
   "nbconvert_exporter": "python",
   "pygments_lexer": "ipython3",
   "version": "3.6.5"
  }
 },
 "nbformat": 4,
 "nbformat_minor": 2
}
