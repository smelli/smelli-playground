{
 "cells": [
  {
   "cell_type": "markdown",
   "metadata": {},
   "source": [
    "# smelli playground\n",
    "\n",
    "This Jupyter notebook allows you to try out the `smelli` Python package. Note that the execution speed is limited. To make full use of the package, install it locally with \n",
    "\n",
    "```bash\n",
    "pip3 install --user smelli\n",
    "```\n",
    "\n",
    "Execute the cells of this notebook with shift + enter."
   ]
  },
  {
   "cell_type": "code",
   "execution_count": 1,
   "metadata": {},
   "outputs": [],
   "source": [
    "%load_ext autoreload\n",
    "%autoreload 2"
   ]
  },
  {
   "cell_type": "code",
   "execution_count": 2,
   "metadata": {},
   "outputs": [],
   "source": [
    "from playground import *"
   ]
  },
  {
   "cell_type": "markdown",
   "metadata": {},
   "source": [
    "## Step 1: EFT and basis\n",
    "\n",
    "Execute this cell and select an EFT and basis"
   ]
  },
  {
   "cell_type": "code",
   "execution_count": 3,
   "metadata": {},
   "outputs": [
    {
     "data": {
      "application/vnd.jupyter.widget-view+json": {
       "model_id": "9a3ac0035b384398a98822c45ffbfb39",
       "version_major": 2,
       "version_minor": 0
      },
      "text/plain": [
       "HBox(children=(interactive(children=(Select(description='eft', options=('SMEFT', 'WET'), value='SMEFT'), Outpu…"
      ]
     },
     "metadata": {},
     "output_type": "display_data"
    }
   ],
   "source": [
    "widgets.HBox([widget_eft, widget_basis])"
   ]
  },
  {
   "cell_type": "markdown",
   "metadata": {},
   "source": [
    "## Step 2: likelihood\n",
    "\n",
    "execute this cell to initialize the likelihood. This will only take a moment."
   ]
  },
  {
   "cell_type": "code",
   "execution_count": 4,
   "metadata": {},
   "outputs": [],
   "source": [
    "gl = smelli.GlobalLikelihood(eft=select_eft.value, basis=select_basis.value)"
   ]
  },
  {
   "cell_type": "markdown",
   "metadata": {},
   "source": [
    "## Step 3: Wilson coefficients\n",
    "\n",
    "select a point in EFT parameter space by entering in the text field Wilson coefficient values in the form `name: value`, one coefficient per line (this format is called YAML).\n",
    "\n",
    "Example in the SMEFT Warsaw basis:\n",
    "\n",
    "```yaml\n",
    "lq1_2223: 1e-9\n",
    "lq1_3323: 1e-8\n",
    "lq3_3323: 1e-8\n",
    "```"
   ]
  },
  {
   "cell_type": "code",
   "execution_count": 5,
   "metadata": {},
   "outputs": [
    {
     "data": {
      "application/vnd.jupyter.widget-view+json": {
       "model_id": "cc69fa3f818448c5b8087aa12da5c720",
       "version_major": 2,
       "version_minor": 0
      },
      "text/plain": [
       "HBox(children=(Textarea(value='', description='Wilson coefficients', layout=Layout(height='300px', min_width='…"
      ]
     },
     "metadata": {},
     "output_type": "display_data"
    }
   ],
   "source": [
    "widgets.HBox([ta_wc, t_scale])"
   ]
  },
  {
   "cell_type": "markdown",
   "metadata": {},
   "source": [
    "## Step 4: parameter point\n",
    "\n",
    "execute this cell to intialize the `GlobalLikelihoodPoint` object"
   ]
  },
  {
   "cell_type": "code",
   "execution_count": 6,
   "metadata": {},
   "outputs": [],
   "source": [
    "glp = gl.parameter_point(read_yaml(ta_wc.value), float(t_scale.value))"
   ]
  },
  {
   "cell_type": "markdown",
   "metadata": {},
   "source": [
    "## Step 5: results!\n",
    "\n",
    "inspect the likelihood by looking at the numerical value ..."
   ]
  },
  {
   "cell_type": "code",
   "execution_count": 7,
   "metadata": {},
   "outputs": [
    {
     "data": {
      "text/plain": [
       "0.0"
      ]
     },
     "execution_count": 7,
     "metadata": {},
     "output_type": "execute_result"
    }
   ],
   "source": [
    "glp.log_likelihood_global()"
   ]
  },
  {
   "cell_type": "markdown",
   "metadata": {},
   "source": [
    "... or inspecting the table of observables"
   ]
  },
  {
   "cell_type": "code",
   "execution_count": 8,
   "metadata": {},
   "outputs": [
    {
     "data": {
      "text/html": [
       "<div>\n",
       "<style scoped>\n",
       "    .dataframe tbody tr th:only-of-type {\n",
       "        vertical-align: middle;\n",
       "    }\n",
       "\n",
       "    .dataframe tbody tr th {\n",
       "        vertical-align: top;\n",
       "    }\n",
       "\n",
       "    .dataframe thead th {\n",
       "        text-align: right;\n",
       "    }\n",
       "</style>\n",
       "<table border=\"1\" class=\"dataframe\">\n",
       "  <thead>\n",
       "    <tr style=\"text-align: right;\">\n",
       "      <th></th>\n",
       "      <th>exp. unc.</th>\n",
       "      <th>experiment</th>\n",
       "      <th>pull</th>\n",
       "      <th>th. unc.</th>\n",
       "      <th>theory</th>\n",
       "    </tr>\n",
       "  </thead>\n",
       "  <tbody>\n",
       "    <tr>\n",
       "      <th>(&lt;dBR/dq2&gt;(Bs-&gt;phimumu), 1.0, 6.0)</th>\n",
       "      <td>3.6338e-09</td>\n",
       "      <td>2.56529e-08</td>\n",
       "      <td>3.78721</td>\n",
       "      <td>6.45333e-09</td>\n",
       "      <td>5.37012e-08</td>\n",
       "    </tr>\n",
       "    <tr>\n",
       "      <th>a_mu</th>\n",
       "      <td>6.28464e-10</td>\n",
       "      <td>0.00116592</td>\n",
       "      <td>3.5038</td>\n",
       "      <td>4.34558e-10</td>\n",
       "      <td>0.00116592</td>\n",
       "    </tr>\n",
       "    <tr>\n",
       "      <th>(&lt;P5p&gt;(B0-&gt;K*mumu), 4, 6)</th>\n",
       "      <td>0.149137</td>\n",
       "      <td>-0.206301</td>\n",
       "      <td>3.30324</td>\n",
       "      <td>0.0740642</td>\n",
       "      <td>-0.756341</td>\n",
       "    </tr>\n",
       "    <tr>\n",
       "      <th>Rtaul(B-&gt;D*lnu)</th>\n",
       "      <td>0.0177015</td>\n",
       "      <td>0.306019</td>\n",
       "      <td>3.29236</td>\n",
       "      <td>0</td>\n",
       "      <td>0.247769</td>\n",
       "    </tr>\n",
       "    <tr>\n",
       "      <th>(&lt;AFBlh&gt;(Lambdab-&gt;Lambdamumu), 15, 20)</th>\n",
       "      <td>0.0409778</td>\n",
       "      <td>0.249678</td>\n",
       "      <td>2.63299</td>\n",
       "      <td>0.00745462</td>\n",
       "      <td>0.140013</td>\n",
       "    </tr>\n",
       "    <tr>\n",
       "      <th>epsp/eps</th>\n",
       "      <td>0.000229169</td>\n",
       "      <td>0.00166255</td>\n",
       "      <td>2.62053</td>\n",
       "      <td>0.000603794</td>\n",
       "      <td>-2.98528e-05</td>\n",
       "    </tr>\n",
       "    <tr>\n",
       "      <th>(&lt;Rmue&gt;(B+-&gt;Kll), 1.0, 6.0)</th>\n",
       "      <td>0.0978848</td>\n",
       "      <td>0.745</td>\n",
       "      <td>2.61599</td>\n",
       "      <td>0</td>\n",
       "      <td>1.0001</td>\n",
       "    </tr>\n",
       "    <tr>\n",
       "      <th>Rtaul(B-&gt;Dlnu)</th>\n",
       "      <td>0.0497172</td>\n",
       "      <td>0.406331</td>\n",
       "      <td>2.60044</td>\n",
       "      <td>0</td>\n",
       "      <td>0.277045</td>\n",
       "    </tr>\n",
       "    <tr>\n",
       "      <th>BR(W-&gt;taunu)</th>\n",
       "      <td>0.0021</td>\n",
       "      <td>0.1138</td>\n",
       "      <td>2.56346</td>\n",
       "      <td>0</td>\n",
       "      <td>0.108417</td>\n",
       "    </tr>\n",
       "    <tr>\n",
       "      <th>(&lt;Rmue&gt;(B0-&gt;K*ll), 1.1, 6.0)</th>\n",
       "      <td>0.123108</td>\n",
       "      <td>0.681356</td>\n",
       "      <td>2.54603</td>\n",
       "      <td>0</td>\n",
       "      <td>0.996459</td>\n",
       "    </tr>\n",
       "  </tbody>\n",
       "</table>\n",
       "</div>"
      ],
      "text/plain": [
       "                                          exp. unc.   experiment     pull  \\\n",
       "(<dBR/dq2>(Bs->phimumu), 1.0, 6.0)       3.6338e-09  2.56529e-08  3.78721   \n",
       "a_mu                                    6.28464e-10   0.00116592   3.5038   \n",
       "(<P5p>(B0->K*mumu), 4, 6)                  0.149137    -0.206301  3.30324   \n",
       "Rtaul(B->D*lnu)                           0.0177015     0.306019  3.29236   \n",
       "(<AFBlh>(Lambdab->Lambdamumu), 15, 20)    0.0409778     0.249678  2.63299   \n",
       "epsp/eps                                0.000229169   0.00166255  2.62053   \n",
       "(<Rmue>(B+->Kll), 1.0, 6.0)               0.0978848        0.745  2.61599   \n",
       "Rtaul(B->Dlnu)                            0.0497172     0.406331  2.60044   \n",
       "BR(W->taunu)                                 0.0021       0.1138  2.56346   \n",
       "(<Rmue>(B0->K*ll), 1.1, 6.0)               0.123108     0.681356  2.54603   \n",
       "\n",
       "                                           th. unc.       theory  \n",
       "(<dBR/dq2>(Bs->phimumu), 1.0, 6.0)      6.45333e-09  5.37012e-08  \n",
       "a_mu                                    4.34558e-10   0.00116592  \n",
       "(<P5p>(B0->K*mumu), 4, 6)                 0.0740642    -0.756341  \n",
       "Rtaul(B->D*lnu)                                   0     0.247769  \n",
       "(<AFBlh>(Lambdab->Lambdamumu), 15, 20)   0.00745462     0.140013  \n",
       "epsp/eps                                0.000603794 -2.98528e-05  \n",
       "(<Rmue>(B+->Kll), 1.0, 6.0)                       0       1.0001  \n",
       "Rtaul(B->Dlnu)                                    0     0.277045  \n",
       "BR(W->taunu)                                      0     0.108417  \n",
       "(<Rmue>(B0->K*ll), 1.1, 6.0)                      0     0.996459  "
      ]
     },
     "execution_count": 8,
     "metadata": {},
     "output_type": "execute_result"
    }
   ],
   "source": [
    "df = glp.obstable()\n",
    "df[:10]  # showing only the ten most discrepant observables"
   ]
  },
  {
   "cell_type": "markdown",
   "metadata": {},
   "source": [
    "Note that the observable table is a pandas DataFrame object, so you can use all its [features](https://pandas.pydata.org/pandas-docs/stable/generated/pandas.DataFrame.html) like sorting and filtering"
   ]
  },
  {
   "cell_type": "code",
   "execution_count": 9,
   "metadata": {},
   "outputs": [
    {
     "data": {
      "text/html": [
       "<div>\n",
       "<style scoped>\n",
       "    .dataframe tbody tr th:only-of-type {\n",
       "        vertical-align: middle;\n",
       "    }\n",
       "\n",
       "    .dataframe tbody tr th {\n",
       "        vertical-align: top;\n",
       "    }\n",
       "\n",
       "    .dataframe thead th {\n",
       "        text-align: right;\n",
       "    }\n",
       "</style>\n",
       "<table border=\"1\" class=\"dataframe\">\n",
       "  <thead>\n",
       "    <tr style=\"text-align: right;\">\n",
       "      <th></th>\n",
       "      <th>exp. unc.</th>\n",
       "      <th>experiment</th>\n",
       "      <th>pull</th>\n",
       "      <th>th. unc.</th>\n",
       "      <th>theory</th>\n",
       "    </tr>\n",
       "  </thead>\n",
       "  <tbody>\n",
       "    <tr>\n",
       "      <th>a_e</th>\n",
       "      <td>2.60161e-13</td>\n",
       "      <td>0.00115965</td>\n",
       "      <td>1.88887</td>\n",
       "      <td>2.30441e-13</td>\n",
       "      <td>0.00115965</td>\n",
       "    </tr>\n",
       "    <tr>\n",
       "      <th>a_mu</th>\n",
       "      <td>6.28464e-10</td>\n",
       "      <td>0.00116592</td>\n",
       "      <td>3.5038</td>\n",
       "      <td>4.34558e-10</td>\n",
       "      <td>0.00116592</td>\n",
       "    </tr>\n",
       "    <tr>\n",
       "      <th>a_tau</th>\n",
       "      <td>0.0172377</td>\n",
       "      <td>-0.0180274</td>\n",
       "      <td>1.1141</td>\n",
       "      <td>4.8907e-08</td>\n",
       "      <td>0.00117721</td>\n",
       "    </tr>\n",
       "  </tbody>\n",
       "</table>\n",
       "</div>"
      ],
      "text/plain": [
       "         exp. unc.  experiment     pull     th. unc.      theory\n",
       "a_e    2.60161e-13  0.00115965  1.88887  2.30441e-13  0.00115965\n",
       "a_mu   6.28464e-10  0.00116592   3.5038  4.34558e-10  0.00116592\n",
       "a_tau    0.0172377  -0.0180274   1.1141   4.8907e-08  0.00117721"
      ]
     },
     "execution_count": 9,
     "metadata": {},
     "output_type": "execute_result"
    }
   ],
   "source": [
    "df.loc[['a_e', 'a_mu', 'a_tau']].sort_values('exp. unc.')"
   ]
  },
  {
   "cell_type": "code",
   "execution_count": null,
   "metadata": {},
   "outputs": [],
   "source": []
  }
 ],
 "metadata": {
  "kernelspec": {
   "display_name": "Python 3",
   "language": "python",
   "name": "python3"
  },
  "language_info": {
   "codemirror_mode": {
    "name": "ipython",
    "version": 3
   },
   "file_extension": ".py",
   "mimetype": "text/x-python",
   "name": "python",
   "nbconvert_exporter": "python",
   "pygments_lexer": "ipython3",
   "version": "3.6.5"
  }
 },
 "nbformat": 4,
 "nbformat_minor": 2
}
